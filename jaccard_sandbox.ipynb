{
 "cells": [
  {
   "cell_type": "markdown",
   "metadata": {},
   "source": [
    "Jaccard similarity between different configurations of oviIN modularity\n",
    "* full oviINr connectome\n",
    "* oviINr inputs\n",
    "* oviINr outputs\n",
    "* combined oviIN connectome\n",
    "* oviINr connectome without oviINr\n",
    "* combined oviIN connectome with oviINs"
   ]
  },
  {
   "cell_type": "code",
   "execution_count": 1,
   "metadata": {},
   "outputs": [],
   "source": [
    "import numpy as np\n",
    "import pandas as pd\n",
    "import matplotlib.pyplot as plt"
   ]
  },
  {
   "cell_type": "markdown",
   "metadata": {},
   "source": [
    "# Testing with dummy data\n",
    "I'm going to do this with dummy data first. I will create a dataframe with 2 columns that each have 2 clusters. There is 50% overlap between the 2 columns. "
   ]
  },
  {
   "cell_type": "code",
   "execution_count": 82,
   "metadata": {},
   "outputs": [
    {
     "data": {
      "text/html": [
       "<div>\n",
       "<style scoped>\n",
       "    .dataframe tbody tr th:only-of-type {\n",
       "        vertical-align: middle;\n",
       "    }\n",
       "\n",
       "    .dataframe tbody tr th {\n",
       "        vertical-align: top;\n",
       "    }\n",
       "\n",
       "    .dataframe thead th {\n",
       "        text-align: right;\n",
       "    }\n",
       "</style>\n",
       "<table border=\"1\" class=\"dataframe\">\n",
       "  <thead>\n",
       "    <tr style=\"text-align: right;\">\n",
       "      <th></th>\n",
       "      <th>0.0</th>\n",
       "      <th>0.05</th>\n",
       "    </tr>\n",
       "  </thead>\n",
       "  <tbody>\n",
       "    <tr>\n",
       "      <th>0</th>\n",
       "      <td>1</td>\n",
       "      <td>1</td>\n",
       "    </tr>\n",
       "    <tr>\n",
       "      <th>1</th>\n",
       "      <td>1</td>\n",
       "      <td>2</td>\n",
       "    </tr>\n",
       "    <tr>\n",
       "      <th>2</th>\n",
       "      <td>1</td>\n",
       "      <td>1</td>\n",
       "    </tr>\n",
       "    <tr>\n",
       "      <th>3</th>\n",
       "      <td>1</td>\n",
       "      <td>2</td>\n",
       "    </tr>\n",
       "    <tr>\n",
       "      <th>4</th>\n",
       "      <td>1</td>\n",
       "      <td>1</td>\n",
       "    </tr>\n",
       "    <tr>\n",
       "      <th>5</th>\n",
       "      <td>1</td>\n",
       "      <td>2</td>\n",
       "    </tr>\n",
       "    <tr>\n",
       "      <th>6</th>\n",
       "      <td>1</td>\n",
       "      <td>1</td>\n",
       "    </tr>\n",
       "    <tr>\n",
       "      <th>7</th>\n",
       "      <td>1</td>\n",
       "      <td>2</td>\n",
       "    </tr>\n",
       "    <tr>\n",
       "      <th>8</th>\n",
       "      <td>1</td>\n",
       "      <td>1</td>\n",
       "    </tr>\n",
       "    <tr>\n",
       "      <th>9</th>\n",
       "      <td>1</td>\n",
       "      <td>2</td>\n",
       "    </tr>\n",
       "    <tr>\n",
       "      <th>10</th>\n",
       "      <td>2</td>\n",
       "      <td>1</td>\n",
       "    </tr>\n",
       "    <tr>\n",
       "      <th>11</th>\n",
       "      <td>2</td>\n",
       "      <td>2</td>\n",
       "    </tr>\n",
       "    <tr>\n",
       "      <th>12</th>\n",
       "      <td>2</td>\n",
       "      <td>1</td>\n",
       "    </tr>\n",
       "    <tr>\n",
       "      <th>13</th>\n",
       "      <td>2</td>\n",
       "      <td>2</td>\n",
       "    </tr>\n",
       "    <tr>\n",
       "      <th>14</th>\n",
       "      <td>2</td>\n",
       "      <td>1</td>\n",
       "    </tr>\n",
       "    <tr>\n",
       "      <th>15</th>\n",
       "      <td>2</td>\n",
       "      <td>2</td>\n",
       "    </tr>\n",
       "    <tr>\n",
       "      <th>16</th>\n",
       "      <td>2</td>\n",
       "      <td>1</td>\n",
       "    </tr>\n",
       "    <tr>\n",
       "      <th>17</th>\n",
       "      <td>2</td>\n",
       "      <td>2</td>\n",
       "    </tr>\n",
       "    <tr>\n",
       "      <th>18</th>\n",
       "      <td>2</td>\n",
       "      <td>1</td>\n",
       "    </tr>\n",
       "    <tr>\n",
       "      <th>19</th>\n",
       "      <td>2</td>\n",
       "      <td>2</td>\n",
       "    </tr>\n",
       "  </tbody>\n",
       "</table>\n",
       "</div>"
      ],
      "text/plain": [
       "    0.0  0.05\n",
       "0     1     1\n",
       "1     1     2\n",
       "2     1     1\n",
       "3     1     2\n",
       "4     1     1\n",
       "5     1     2\n",
       "6     1     1\n",
       "7     1     2\n",
       "8     1     1\n",
       "9     1     2\n",
       "10    2     1\n",
       "11    2     2\n",
       "12    2     1\n",
       "13    2     2\n",
       "14    2     1\n",
       "15    2     2\n",
       "16    2     1\n",
       "17    2     2\n",
       "18    2     1\n",
       "19    2     2"
      ]
     },
     "execution_count": 82,
     "metadata": {},
     "output_type": "execute_result"
    }
   ],
   "source": [
    "# Create the dummy data for the columns\n",
    "column_0 = np.concatenate([np.full(10, 1), np.full(10, 2)])\n",
    "column_05 = np.tile([1, 2], 10)\n",
    "\n",
    "# Create the DataFrame\n",
    "df = pd.DataFrame({'0.0': column_0, '0.05': column_05})\n",
    "df"
   ]
  },
  {
   "cell_type": "code",
   "execution_count": 83,
   "metadata": {},
   "outputs": [
    {
     "data": {
      "text/plain": [
       "[1, 2]"
      ]
     },
     "execution_count": 83,
     "metadata": {},
     "output_type": "execute_result"
    }
   ],
   "source": [
    "# get the coarse modules from the data\n",
    "coarse_modules = df['0.0'].unique().tolist()\n",
    "coarse_modules"
   ]
  },
  {
   "cell_type": "markdown",
   "metadata": {},
   "source": [
    "dict_zero gets the indices (which might be the body IDs depending on the df) of the rows that correspond to the 2 coarse clusters."
   ]
  },
  {
   "cell_type": "code",
   "execution_count": 84,
   "metadata": {},
   "outputs": [
    {
     "data": {
      "text/plain": [
       "{1: [0, 1, 2, 3, 4, 5, 6, 7, 8, 9],\n",
       " 2: [10, 11, 12, 13, 14, 15, 16, 17, 18, 19]}"
      ]
     },
     "execution_count": 84,
     "metadata": {},
     "output_type": "execute_result"
    }
   ],
   "source": [
    "# Get bodyIds at zero resolution for each coarse cluster\n",
    "dict_zero = {module: [] for module in coarse_modules}\n",
    "for key, value in dict_zero.items():\n",
    "    dict_zero[key] = df[df['0.0']==key].index.tolist()\n",
    "dict_zero"
   ]
  },
  {
   "cell_type": "markdown",
   "metadata": {},
   "source": [
    "The keys in dict are the coarse cluster numbers and the items are the chi cluster numbers that contain the members from the coarse cluster. "
   ]
  },
  {
   "cell_type": "code",
   "execution_count": 85,
   "metadata": {},
   "outputs": [
    {
     "data": {
      "text/plain": [
       "{1: array([1, 2]), 2: array([1, 2])}"
      ]
     },
     "execution_count": 85,
     "metadata": {},
     "output_type": "execute_result"
    }
   ],
   "source": [
    "# Gets cluster numbers for chi resolution for each coarse cluster\n",
    "chi_values = [chi]\n",
    "dict = {}\n",
    "\n",
    "for i, x in enumerate(coarse_modules):\n",
    "    # grab a coarse cluster\n",
    "    df_test = df[df['0.0']==x]\n",
    "    for f, y in enumerate(chi_values):\n",
    "        # take new cluster numbers overlapping with coarse cluster\n",
    "        cluster = df_test[y].unique()\n",
    "        #cluster_all[i,f, :len(cluster)] = cluster\n",
    "    dict[coarse_modules[i]] = cluster\n",
    "dict"
   ]
  },
  {
   "cell_type": "markdown",
   "metadata": {},
   "source": [
    "The keys in dict_new are also the coarse cluster numbers but the items are the indices that correspond to all the chi clusters for that coarse cluster."
   ]
  },
  {
   "cell_type": "code",
   "execution_count": 86,
   "metadata": {},
   "outputs": [
    {
     "data": {
      "text/plain": [
       "{1: [0, 2, 4, 6, 8, 10, 12, 14, 16, 18, 1, 3, 5, 7, 9, 11, 13, 15, 17, 19],\n",
       " 2: [0, 2, 4, 6, 8, 10, 12, 14, 16, 18, 1, 3, 5, 7, 9, 11, 13, 15, 17, 19]}"
      ]
     },
     "execution_count": 86,
     "metadata": {},
     "output_type": "execute_result"
    }
   ],
   "source": [
    "# Get bodyIDs for each cluster number in the resolution\n",
    "dict_new = {module: [] for module in coarse_modules}\n",
    "for key, value in dict.items():\n",
    "    body_ids = []\n",
    "    for i, x in enumerate(value):\n",
    "        # appends all the body_ids from the chi clusters\n",
    "        body_ids.extend(df[df[chi]==x].index.tolist())\n",
    "    dict_new[key] = body_ids\n",
    "dict_new"
   ]
  },
  {
   "cell_type": "markdown",
   "metadata": {},
   "source": [
    "These dictionaries can then be used to compute the Jaccard similarity between a coarse cluster and the chi clusters that contain its members. Rhessa did something like this."
   ]
  },
  {
   "cell_type": "code",
   "execution_count": 87,
   "metadata": {},
   "outputs": [
    {
     "data": {
      "text/plain": [
       "{0, 1, 2, 3, 4, 5, 6, 7, 8, 9, 10, 11, 12, 13, 14, 15, 16, 17, 18, 19}"
      ]
     },
     "execution_count": 87,
     "metadata": {},
     "output_type": "execute_result"
    }
   ],
   "source": [
    "set1 = set(dict_new[key])\n",
    "set2 = set(dict_zero[key])"
   ]
  },
  {
   "cell_type": "code",
   "execution_count": 95,
   "metadata": {},
   "outputs": [
    {
     "data": {
      "text/plain": [
       "{0, 1, 2, 3, 4, 5, 6, 7, 8, 9}"
      ]
     },
     "execution_count": 95,
     "metadata": {},
     "output_type": "execute_result"
    }
   ],
   "source": [
    "set1-set2"
   ]
  },
  {
   "cell_type": "code",
   "execution_count": 93,
   "metadata": {},
   "outputs": [
    {
     "data": {
      "text/plain": [
       "{10, 11, 12, 13, 14, 15, 16, 17, 18, 19}"
      ]
     },
     "execution_count": 93,
     "metadata": {},
     "output_type": "execute_result"
    }
   ],
   "source": [
    "set2"
   ]
  },
  {
   "cell_type": "code",
   "execution_count": 96,
   "metadata": {},
   "outputs": [
    {
     "data": {
      "text/plain": [
       "set()"
      ]
     },
     "execution_count": 96,
     "metadata": {},
     "output_type": "execute_result"
    }
   ],
   "source": [
    "set2-set1"
   ]
  },
  {
   "cell_type": "code",
   "execution_count": 90,
   "metadata": {},
   "outputs": [
    {
     "data": {
      "text/plain": [
       "{0, 1, 2, 3, 4, 5, 6, 7, 8, 9}"
      ]
     },
     "execution_count": 90,
     "metadata": {},
     "output_type": "execute_result"
    }
   ],
   "source": [
    "unique_1 = set1-set2\n",
    "unique_2 = set2-set1"
   ]
  },
  {
   "cell_type": "code",
   "execution_count": 97,
   "metadata": {},
   "outputs": [],
   "source": [
    "common = set1.intersection(set2)\n",
    "# total_unique is not actually the total unique count\n",
    "total_unique = len(unique_1) + len(unique_2)\n",
    "jaccard_sim = len(common) / (total_unique + len(common))"
   ]
  },
  {
   "cell_type": "code",
   "execution_count": 99,
   "metadata": {},
   "outputs": [
    {
     "data": {
      "text/plain": [
       "{10, 11, 12, 13, 14, 15, 16, 17, 18, 19}"
      ]
     },
     "execution_count": 99,
     "metadata": {},
     "output_type": "execute_result"
    }
   ],
   "source": [
    "common"
   ]
  },
  {
   "cell_type": "code",
   "execution_count": 98,
   "metadata": {},
   "outputs": [
    {
     "data": {
      "text/plain": [
       "10"
      ]
     },
     "execution_count": 98,
     "metadata": {},
     "output_type": "execute_result"
    }
   ],
   "source": [
    "total_unique"
   ]
  },
  {
   "cell_type": "markdown",
   "metadata": {},
   "source": [
    "I will actually do the union between sets instead."
   ]
  },
  {
   "cell_type": "code",
   "execution_count": 105,
   "metadata": {},
   "outputs": [
    {
     "data": {
      "text/plain": [
       "{0, 1, 2, 3, 4, 5, 6, 7, 8, 9, 10, 11, 12, 13, 14, 15, 16, 17, 18, 19}"
      ]
     },
     "execution_count": 105,
     "metadata": {},
     "output_type": "execute_result"
    }
   ],
   "source": [
    "# the union of set1 and set2\n",
    "union_1_2 = set1 | set2\n",
    "union_1_2"
   ]
  },
  {
   "cell_type": "code",
   "execution_count": 106,
   "metadata": {},
   "outputs": [
    {
     "data": {
      "text/plain": [
       "0.5"
      ]
     },
     "execution_count": 106,
     "metadata": {},
     "output_type": "execute_result"
    }
   ],
   "source": [
    "# jaccard similarity is intersection divided by union\n",
    "jaccard_sim = len(common) / len(union_1_2)\n",
    "jaccard_sim"
   ]
  },
  {
   "cell_type": "markdown",
   "metadata": {},
   "source": [
    "We can continue and make a dictionary to store jaccard values for the different coarse clusters."
   ]
  },
  {
   "cell_type": "code",
   "execution_count": 107,
   "metadata": {},
   "outputs": [
    {
     "data": {
      "text/plain": [
       "{1: [0.5], 2: [0.5]}"
      ]
     },
     "execution_count": 107,
     "metadata": {},
     "output_type": "execute_result"
    }
   ],
   "source": [
    "# Create a dictionary to store the jaccard similarities\n",
    "jaccard_dict = {}\n",
    "for key, value in dict_new.items():\n",
    "    jaccard_dict[key] = []\n",
    "    unique_1, unique_2, common, jaccard_sim = calculate_difference(dict_new[key], dict_zero[key])\n",
    "    jaccard_dict[key].append(jaccard_sim)\n",
    "    \n",
    "jaccard_dict"
   ]
  },
  {
   "cell_type": "code",
   "execution_count": 108,
   "metadata": {},
   "outputs": [
    {
     "data": {
      "text/html": [
       "<div>\n",
       "<style scoped>\n",
       "    .dataframe tbody tr th:only-of-type {\n",
       "        vertical-align: middle;\n",
       "    }\n",
       "\n",
       "    .dataframe tbody tr th {\n",
       "        vertical-align: top;\n",
       "    }\n",
       "\n",
       "    .dataframe thead th {\n",
       "        text-align: right;\n",
       "    }\n",
       "</style>\n",
       "<table border=\"1\" class=\"dataframe\">\n",
       "  <thead>\n",
       "    <tr style=\"text-align: right;\">\n",
       "      <th></th>\n",
       "      <th>1</th>\n",
       "      <th>2</th>\n",
       "    </tr>\n",
       "  </thead>\n",
       "  <tbody>\n",
       "    <tr>\n",
       "      <th>0</th>\n",
       "      <td>0.5</td>\n",
       "      <td>0.5</td>\n",
       "    </tr>\n",
       "  </tbody>\n",
       "</table>\n",
       "</div>"
      ],
      "text/plain": [
       "     1    2\n",
       "0  0.5  0.5"
      ]
     },
     "execution_count": 108,
     "metadata": {},
     "output_type": "execute_result"
    }
   ],
   "source": [
    "# Create a dataframe to store the jaccard similarities\n",
    "df_jaccard = pd.DataFrame(jaccard_dict)\n",
    "df_jaccard"
   ]
  },
  {
   "cell_type": "markdown",
   "metadata": {},
   "source": [
    "I'm not sure why Rhessa wanted to shift the indexing."
   ]
  },
  {
   "cell_type": "code",
   "execution_count": 109,
   "metadata": {},
   "outputs": [
    {
     "data": {
      "text/html": [
       "<div>\n",
       "<style scoped>\n",
       "    .dataframe tbody tr th:only-of-type {\n",
       "        vertical-align: middle;\n",
       "    }\n",
       "\n",
       "    .dataframe tbody tr th {\n",
       "        vertical-align: top;\n",
       "    }\n",
       "\n",
       "    .dataframe thead th {\n",
       "        text-align: right;\n",
       "    }\n",
       "</style>\n",
       "<table border=\"1\" class=\"dataframe\">\n",
       "  <thead>\n",
       "    <tr style=\"text-align: right;\">\n",
       "      <th></th>\n",
       "      <th>1</th>\n",
       "      <th>2</th>\n",
       "    </tr>\n",
       "  </thead>\n",
       "  <tbody>\n",
       "    <tr>\n",
       "      <th>1</th>\n",
       "      <td>0.5</td>\n",
       "      <td>0.5</td>\n",
       "    </tr>\n",
       "  </tbody>\n",
       "</table>\n",
       "</div>"
      ],
      "text/plain": [
       "     1    2\n",
       "1  0.5  0.5"
      ]
     },
     "execution_count": 109,
     "metadata": {},
     "output_type": "execute_result"
    }
   ],
   "source": [
    "# starts indexing at 1\n",
    "df_jaccard.index = np.arange(1, len(df_jaccard)+1)\n",
    "df_jaccard"
   ]
  },
  {
   "cell_type": "markdown",
   "metadata": {},
   "source": [
    "# Updates to Rhessa's Jaccard functions\n",
    "The modified functions are below. This is first tested on the dummy data before overwriting df and testing on the oviIN connectome data."
   ]
  },
  {
   "cell_type": "code",
   "execution_count": 110,
   "metadata": {},
   "outputs": [],
   "source": [
    "# create a function that takes in two lists of id numbers and returns the jaccard sim of the two lists\n",
    "def calculate_difference(list1, list2):\n",
    "    set1 = set(list1)\n",
    "    set2 = set(list2)\n",
    "\n",
    "    # the intersection of set1 and set2\n",
    "    common = set1.intersection(set2)\n",
    "\n",
    "    # the union of set1 and set2\n",
    "    union_1_2 = set1 | set2\n",
    "\n",
    "    # Jaccard similarity index for set1 and set2\n",
    "    jaccard_sim = len(common) / len(union_1_2)\n",
    "\n",
    "    return unique_1, unique_2, common, jaccard_sim\n",
    "\n",
    "# function that takes in a partition dataframe, the modules at the base resolution, and the chi value at which to compare\n",
    "def get_body_ids(df, coarse_modules, chi):\n",
    "    \"\"\" This function takes in a partition dataframe, the modules at the base resolution, and the chi value at which to compare. \n",
    "    It returns a dictionary of body IDs for each cluster number at the resolution and a dictionary of body IDs for each cluster \n",
    "    number at the base resolution.\"\"\"\n",
    "    # Get bodyIds at zero resolution for each coarse cluster\n",
    "    dict_zero = {module: [] for module in coarse_modules}\n",
    "    for key, value in dict_zero.items():\n",
    "        dict_zero[key] = df[df['0.0']==key].index.tolist()\n",
    "\n",
    "    # Gets cluster numbers for chi resolution for each coarse cluster\n",
    "    chi_values = [chi]\n",
    "    dict = {}\n",
    "    for i, x in enumerate(coarse_modules):\n",
    "        # grab a coarse cluster\n",
    "        df_test = df[df['0.0']==x]\n",
    "        for f, y in enumerate(chi_values):\n",
    "            # take new cluster numbers overlapping with coarse cluster\n",
    "            cluster = df_test[y].unique()\n",
    "        dict[coarse_modules[i]] = cluster\n",
    "    \n",
    "    # Get bodyIDs for each cluster number in the chi resolution clusters\n",
    "    dict_new = {module: [] for module in coarse_modules}\n",
    "    for key, value in dict.items():\n",
    "        body_ids = []\n",
    "        for i, x in enumerate(value):\n",
    "            # appends all the body_ids from the chi clusters\n",
    "            body_ids.extend(df[df[chi]==x].index.tolist())\n",
    "        dict_new[key] = body_ids\n",
    "\n",
    "    return dict_new, dict_zero\n",
    "    \n",
    "# Function that takes in partition dataframe, the modules at the base resolution, and the chi value at which to compare\n",
    "def main_jaccard(df, coarse_modules, chi):\n",
    "    \"\"\" This function takes in a partition dataframe, the modules at the base resolution, and the chi \n",
    "    value at which to compare. It returns a dataframe of the jaccard similarities between the resolutions at each cluster\"\"\"\n",
    "\n",
    "    # Get the body IDs for each cluster number at the resolution and the base resolution\n",
    "    dict_new, dict_zero = get_body_ids(df, coarse_modules, chi)\n",
    "\n",
    "    # Create a dictionary to store the jaccard similarities\n",
    "    jaccard_dict = {}\n",
    "    for key, value in dict_new.items():\n",
    "        jaccard_dict[key] = []\n",
    "        unique_1, unique_2, common, jaccard_sim = calculate_difference(dict_new[key], dict_zero[key])\n",
    "        jaccard_dict[key].append(jaccard_sim)\n",
    "    \n",
    "    # Create a dataframe to store the jaccard similarities\n",
    "    df_jaccard = pd.DataFrame(jaccard_dict)\n",
    "    \n",
    "    return df_jaccard"
   ]
  },
  {
   "cell_type": "code",
   "execution_count": 111,
   "metadata": {},
   "outputs": [
    {
     "data": {
      "text/html": [
       "<div>\n",
       "<style scoped>\n",
       "    .dataframe tbody tr th:only-of-type {\n",
       "        vertical-align: middle;\n",
       "    }\n",
       "\n",
       "    .dataframe tbody tr th {\n",
       "        vertical-align: top;\n",
       "    }\n",
       "\n",
       "    .dataframe thead th {\n",
       "        text-align: right;\n",
       "    }\n",
       "</style>\n",
       "<table border=\"1\" class=\"dataframe\">\n",
       "  <thead>\n",
       "    <tr style=\"text-align: right;\">\n",
       "      <th></th>\n",
       "      <th>1</th>\n",
       "      <th>2</th>\n",
       "    </tr>\n",
       "  </thead>\n",
       "  <tbody>\n",
       "    <tr>\n",
       "      <th>0</th>\n",
       "      <td>0.5</td>\n",
       "      <td>0.5</td>\n",
       "    </tr>\n",
       "  </tbody>\n",
       "</table>\n",
       "</div>"
      ],
      "text/plain": [
       "     1    2\n",
       "0  0.5  0.5"
      ]
     },
     "execution_count": 111,
     "metadata": {},
     "output_type": "execute_result"
    }
   ],
   "source": [
    "test = main_jaccard(df, coarse_modules, chi)\n",
    "test"
   ]
  },
  {
   "cell_type": "code",
   "execution_count": 112,
   "metadata": {},
   "outputs": [],
   "source": [
    "import os\n",
    "\n",
    "# file path for oviIN modularity data for full ovi connectome\n",
    "os.chdir('/Users/ggutierr/My Drive (ggutierr@barnard.edu)/GitHub/oviIN-analyses-gabrielle/ovi_preprocessed/preprocessed-v1.2.1')\n",
    "\n",
    "path = os.getcwd()\n",
    "\n",
    "# load in the data\n",
    "ovi_HB_node_df = pd.read_csv('preprocessed_nodes.csv')#, index_col=0)"
   ]
  },
  {
   "cell_type": "code",
   "execution_count": 113,
   "metadata": {},
   "outputs": [],
   "source": [
    "df = ovi_HB_node_df"
   ]
  },
  {
   "cell_type": "code",
   "execution_count": 115,
   "metadata": {},
   "outputs": [],
   "source": [
    "# get the coarse modules from the data\n",
    "coarse_modules = df['0.0'].unique().tolist()"
   ]
  },
  {
   "cell_type": "code",
   "execution_count": 116,
   "metadata": {},
   "outputs": [
    {
     "data": {
      "text/html": [
       "<div>\n",
       "<style scoped>\n",
       "    .dataframe tbody tr th:only-of-type {\n",
       "        vertical-align: middle;\n",
       "    }\n",
       "\n",
       "    .dataframe tbody tr th {\n",
       "        vertical-align: top;\n",
       "    }\n",
       "\n",
       "    .dataframe thead th {\n",
       "        text-align: right;\n",
       "    }\n",
       "</style>\n",
       "<table border=\"1\" class=\"dataframe\">\n",
       "  <thead>\n",
       "    <tr style=\"text-align: right;\">\n",
       "      <th></th>\n",
       "      <th>1</th>\n",
       "      <th>2</th>\n",
       "      <th>3</th>\n",
       "      <th>4</th>\n",
       "      <th>5</th>\n",
       "      <th>6</th>\n",
       "    </tr>\n",
       "  </thead>\n",
       "  <tbody>\n",
       "    <tr>\n",
       "      <th>0</th>\n",
       "      <td>0.287668</td>\n",
       "      <td>0.221907</td>\n",
       "      <td>0.130645</td>\n",
       "      <td>0.259494</td>\n",
       "      <td>0.166893</td>\n",
       "      <td>0.179653</td>\n",
       "    </tr>\n",
       "  </tbody>\n",
       "</table>\n",
       "</div>"
      ],
      "text/plain": [
       "          1         2         3         4         5         6\n",
       "0  0.287668  0.221907  0.130645  0.259494  0.166893  0.179653"
      ]
     },
     "execution_count": 116,
     "metadata": {},
     "output_type": "execute_result"
    }
   ],
   "source": [
    "real_test = main_jaccard(df, coarse_modules, chi)\n",
    "real_test"
   ]
  },
  {
   "cell_type": "code",
   "execution_count": null,
   "metadata": {},
   "outputs": [],
   "source": []
  }
 ],
 "metadata": {
  "kernelspec": {
   "display_name": "modularity",
   "language": "python",
   "name": "python3"
  },
  "language_info": {
   "codemirror_mode": {
    "name": "ipython",
    "version": 3
   },
   "file_extension": ".py",
   "mimetype": "text/x-python",
   "name": "python",
   "nbconvert_exporter": "python",
   "pygments_lexer": "ipython3",
   "version": "3.10.11"
  }
 },
 "nbformat": 4,
 "nbformat_minor": 2
}
